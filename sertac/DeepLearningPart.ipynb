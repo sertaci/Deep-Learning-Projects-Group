{
  "cells": [
    {
      "cell_type": "markdown",
      "metadata": {
        "id": "8gYby4VFxkzE"
      },
      "source": [
        "# **Training the Deep Model**"
      ]
    },
    {
      "cell_type": "markdown",
      "metadata": {
        "id": "oWkOYn8i7QUU"
      },
      "source": [
        "***Importing libraries***"
      ]
    },
    {
      "cell_type": "code",
      "execution_count": 10,
      "metadata": {
        "id": "Z3WHQAt1xnUw"
      },
      "outputs": [],
      "source": [
        "import tensorflow as tf\n",
        "from tensorflow.keras.models import Sequential\n",
        "from tensorflow.keras.layers import Conv2D, MaxPooling2D, Dense, Flatten, Dropout\n",
        "import numpy as np\n",
        "import matplotlib.pyplot as plt\n",
        "import os"
      ]
    },
    {
      "cell_type": "markdown",
      "metadata": {},
      "source": [
        "***Creating Model   -- Adding convolutional and other layers --***"
      ]
    },
    {
      "cell_type": "code",
      "execution_count": null,
      "metadata": {
        "id": "dxwV7K5-y2LL"
      },
      "outputs": [],
      "source": [
        "model = Sequential()"
      ]
    },
    {
      "cell_type": "code",
      "execution_count": null,
      "metadata": {
        "id": "FTnARA7Sy_au"
      },
      "outputs": [],
      "source": [
        "model.add(Conv2D(64, (3,3), 1, padding=\"same\", activation='relu', input_shape=(256,256,1)))\n",
        "model.add(MaxPooling2D())\n",
        "\n",
        "model.add(Conv2D(64, (3,3), 1, padding=\"same\", activation='relu'))\n",
        "model.add(MaxPooling2D())\n",
        "\n",
        "model.add(Flatten())\n",
        "\n",
        "model.add(Dense(64, activation='relu'))\n",
        "model.add(Dropout(0.5))\n",
        "\n",
        "model.add(Dense(64, activation='relu'))\n",
        "model.add(Dropout(0.5))\n",
        "\n",
        "\n",
        "model.add(Dense(10, activation='softmax'))"
      ]
    },
    {
      "cell_type": "code",
      "execution_count": null,
      "metadata": {
        "id": "JmRNdakCzV9q"
      },
      "outputs": [],
      "source": [
        "model.compile(optimizer=\"adam\", loss=\"sparse_categorical_crossentropy\", metrics=[\"accuracy\"])"
      ]
    },
    {
      "cell_type": "markdown",
      "metadata": {},
      "source": [
        "***Training the model***"
      ]
    },
    {
      "cell_type": "code",
      "execution_count": null,
      "metadata": {
        "colab": {
          "base_uri": "https://localhost:8080/"
        },
        "id": "PmOq1j_bozLl",
        "outputId": "66452328-32e3-434b-e7d3-2addd92e54a0"
      },
      "outputs": [
        {
          "name": "stdout",
          "output_type": "stream",
          "text": [
            "Epoch 1/50\n",
            "191/191 [==============================] - 1312s 7s/step - loss: 2.1657 - accuracy: 0.1947 - val_loss: 1.7296 - val_accuracy: 0.4057\n",
            "Epoch 2/50\n",
            "191/191 [==============================] - 70s 359ms/step - loss: 1.7950 - accuracy: 0.3388 - val_loss: 1.3795 - val_accuracy: 0.5405\n",
            "Epoch 3/50\n",
            "191/191 [==============================] - 73s 376ms/step - loss: 1.5592 - accuracy: 0.4262 - val_loss: 1.1643 - val_accuracy: 0.6354\n",
            "Epoch 4/50\n",
            "191/191 [==============================] - 73s 374ms/step - loss: 1.4234 - accuracy: 0.4800 - val_loss: 1.0212 - val_accuracy: 0.6991\n",
            "Epoch 5/50\n",
            "191/191 [==============================] - 73s 372ms/step - loss: 1.3155 - accuracy: 0.5200 - val_loss: 0.9612 - val_accuracy: 0.7182\n",
            "Epoch 6/50\n",
            "191/191 [==============================] - 71s 367ms/step - loss: 1.2031 - accuracy: 0.5589 - val_loss: 0.9006 - val_accuracy: 0.7338\n",
            "Epoch 7/50\n",
            "191/191 [==============================] - 75s 385ms/step - loss: 1.1048 - accuracy: 0.5985 - val_loss: 0.8337 - val_accuracy: 0.7627\n",
            "Epoch 8/50\n",
            "191/191 [==============================] - 72s 371ms/step - loss: 1.0550 - accuracy: 0.6137 - val_loss: 0.8273 - val_accuracy: 0.7471\n",
            "Epoch 9/50\n",
            "191/191 [==============================] - 70s 362ms/step - loss: 0.9957 - accuracy: 0.6301 - val_loss: 0.8010 - val_accuracy: 0.7483\n",
            "Epoch 10/50\n",
            "191/191 [==============================] - 73s 373ms/step - loss: 0.9813 - accuracy: 0.6332 - val_loss: 0.7634 - val_accuracy: 0.7622\n",
            "Epoch 11/50\n",
            "191/191 [==============================] - 70s 361ms/step - loss: 0.9273 - accuracy: 0.6484 - val_loss: 0.8026 - val_accuracy: 0.7645\n",
            "Epoch 12/50\n",
            "191/191 [==============================] - 72s 373ms/step - loss: 0.8981 - accuracy: 0.6630 - val_loss: 0.7551 - val_accuracy: 0.7766\n",
            "Epoch 13/50\n",
            "191/191 [==============================] - 77s 396ms/step - loss: 0.8660 - accuracy: 0.6772 - val_loss: 0.7507 - val_accuracy: 0.7772\n",
            "Epoch 14/50\n",
            "191/191 [==============================] - 73s 375ms/step - loss: 0.8609 - accuracy: 0.6790 - val_loss: 0.7388 - val_accuracy: 0.7830\n",
            "Epoch 15/50\n",
            "191/191 [==============================] - 68s 353ms/step - loss: 0.8328 - accuracy: 0.6909 - val_loss: 0.7378 - val_accuracy: 0.7917\n",
            "Epoch 16/50\n",
            "191/191 [==============================] - 70s 359ms/step - loss: 0.7939 - accuracy: 0.6976 - val_loss: 0.7493 - val_accuracy: 0.7830\n",
            "Epoch 17/50\n",
            "191/191 [==============================] - 68s 352ms/step - loss: 0.7764 - accuracy: 0.7071 - val_loss: 0.7642 - val_accuracy: 0.7789\n",
            "Epoch 18/50\n",
            "191/191 [==============================] - 73s 378ms/step - loss: 0.7553 - accuracy: 0.7186 - val_loss: 0.7450 - val_accuracy: 0.7917\n",
            "Epoch 19/50\n",
            "191/191 [==============================] - 74s 384ms/step - loss: 0.7386 - accuracy: 0.7179 - val_loss: 0.7157 - val_accuracy: 0.8032\n",
            "Epoch 20/50\n",
            "191/191 [==============================] - 73s 379ms/step - loss: 0.7139 - accuracy: 0.7297 - val_loss: 0.7965 - val_accuracy: 0.7975\n",
            "Epoch 21/50\n",
            "191/191 [==============================] - 76s 391ms/step - loss: 0.7521 - accuracy: 0.7183 - val_loss: 0.7724 - val_accuracy: 0.7772\n",
            "Epoch 22/50\n",
            "191/191 [==============================] - 75s 391ms/step - loss: 0.7409 - accuracy: 0.7163 - val_loss: 0.7837 - val_accuracy: 0.8003\n",
            "Epoch 23/50\n",
            "191/191 [==============================] - 73s 374ms/step - loss: 0.7201 - accuracy: 0.7354 - val_loss: 0.8089 - val_accuracy: 0.7928\n",
            "Epoch 24/50\n",
            "191/191 [==============================] - 75s 390ms/step - loss: 0.6829 - accuracy: 0.7407 - val_loss: 0.7891 - val_accuracy: 0.8009\n",
            "Epoch 25/50\n",
            "191/191 [==============================] - 73s 377ms/step - loss: 0.6857 - accuracy: 0.7472 - val_loss: 0.8461 - val_accuracy: 0.7703\n",
            "Epoch 26/50\n",
            "191/191 [==============================] - 73s 371ms/step - loss: 0.6852 - accuracy: 0.7408 - val_loss: 0.8712 - val_accuracy: 0.7888\n",
            "Epoch 27/50\n",
            "191/191 [==============================] - 73s 377ms/step - loss: 0.6760 - accuracy: 0.7480 - val_loss: 0.8139 - val_accuracy: 0.7940\n",
            "Epoch 28/50\n",
            "191/191 [==============================] - 73s 374ms/step - loss: 0.6516 - accuracy: 0.7557 - val_loss: 0.8394 - val_accuracy: 0.7876\n",
            "Epoch 29/50\n",
            "191/191 [==============================] - 72s 373ms/step - loss: 0.6719 - accuracy: 0.7433 - val_loss: 0.8563 - val_accuracy: 0.7980\n",
            "Epoch 30/50\n",
            "191/191 [==============================] - 74s 385ms/step - loss: 0.6608 - accuracy: 0.7513 - val_loss: 0.8078 - val_accuracy: 0.7980\n",
            "Epoch 31/50\n",
            "191/191 [==============================] - 75s 385ms/step - loss: 0.6472 - accuracy: 0.7590 - val_loss: 0.8372 - val_accuracy: 0.7934\n",
            "Epoch 32/50\n",
            "191/191 [==============================] - 72s 374ms/step - loss: 0.6417 - accuracy: 0.7611 - val_loss: 0.9177 - val_accuracy: 0.7905\n",
            "Epoch 33/50\n",
            "191/191 [==============================] - 75s 387ms/step - loss: 0.6555 - accuracy: 0.7582 - val_loss: 0.8269 - val_accuracy: 0.8061\n",
            "Epoch 34/50\n",
            "191/191 [==============================] - 73s 377ms/step - loss: 0.6276 - accuracy: 0.7688 - val_loss: 0.8466 - val_accuracy: 0.7963\n",
            "Epoch 35/50\n",
            "191/191 [==============================] - 73s 377ms/step - loss: 0.6288 - accuracy: 0.7636 - val_loss: 0.8726 - val_accuracy: 0.7980\n",
            "Epoch 36/50\n",
            "191/191 [==============================] - 78s 402ms/step - loss: 0.6263 - accuracy: 0.7628 - val_loss: 0.8162 - val_accuracy: 0.7876\n",
            "Epoch 37/50\n",
            "191/191 [==============================] - 71s 365ms/step - loss: 0.6233 - accuracy: 0.7698 - val_loss: 0.8578 - val_accuracy: 0.8003\n",
            "Epoch 38/50\n",
            "191/191 [==============================] - 71s 367ms/step - loss: 0.6279 - accuracy: 0.7608 - val_loss: 0.8585 - val_accuracy: 0.7963\n",
            "Epoch 39/50\n",
            "191/191 [==============================] - 71s 368ms/step - loss: 0.6088 - accuracy: 0.7768 - val_loss: 0.9103 - val_accuracy: 0.7951\n",
            "Epoch 40/50\n",
            "191/191 [==============================] - 72s 369ms/step - loss: 0.6141 - accuracy: 0.7731 - val_loss: 0.9156 - val_accuracy: 0.7934\n",
            "Epoch 41/50\n",
            "191/191 [==============================] - 70s 363ms/step - loss: 0.6238 - accuracy: 0.7760 - val_loss: 0.8682 - val_accuracy: 0.7951\n",
            "Epoch 42/50\n",
            "191/191 [==============================] - 74s 382ms/step - loss: 0.5985 - accuracy: 0.7732 - val_loss: 0.9321 - val_accuracy: 0.7928\n",
            "Epoch 43/50\n",
            "191/191 [==============================] - 72s 372ms/step - loss: 0.6155 - accuracy: 0.7770 - val_loss: 0.9326 - val_accuracy: 0.8032\n",
            "Epoch 44/50\n",
            "191/191 [==============================] - 71s 364ms/step - loss: 0.5813 - accuracy: 0.7870 - val_loss: 1.0198 - val_accuracy: 0.8027\n",
            "Epoch 45/50\n",
            "191/191 [==============================] - 71s 368ms/step - loss: 0.6136 - accuracy: 0.7763 - val_loss: 0.9243 - val_accuracy: 0.7934\n",
            "Epoch 46/50\n",
            "191/191 [==============================] - 72s 371ms/step - loss: 0.5976 - accuracy: 0.7798 - val_loss: 0.8360 - val_accuracy: 0.7992\n",
            "Epoch 47/50\n",
            "191/191 [==============================] - 71s 368ms/step - loss: 0.6107 - accuracy: 0.7747 - val_loss: 0.9610 - val_accuracy: 0.7992\n",
            "Epoch 48/50\n",
            "191/191 [==============================] - 72s 368ms/step - loss: 0.5689 - accuracy: 0.7852 - val_loss: 0.8939 - val_accuracy: 0.8032\n",
            "Epoch 49/50\n",
            "191/191 [==============================] - 70s 365ms/step - loss: 0.5951 - accuracy: 0.7858 - val_loss: 0.9308 - val_accuracy: 0.7917\n",
            "Epoch 50/50\n",
            "191/191 [==============================] - 73s 377ms/step - loss: 0.5930 - accuracy: 0.7819 - val_loss: 0.9646 - val_accuracy: 0.7859\n"
          ]
        }
      ],
      "source": [
        "results = model.fit(train, epochs= 50, validation_data=val, batch_size=128)"
      ]
    },
    {
      "cell_type": "markdown",
      "metadata": {},
      "source": [
        "***Saving the model for future uses***"
      ]
    },
    {
      "cell_type": "code",
      "execution_count": null,
      "metadata": {
        "id": "mDq-AL9u9EBJ"
      },
      "outputs": [],
      "source": [
        "model.save(os.path.join(\"/content/drive/MyDrive/data\", \"fullmodelfirst.h5\"))"
      ]
    },
    {
      "cell_type": "markdown",
      "metadata": {
        "id": "aXY9Sp62AJHs"
      },
      "source": [
        "### **Checking the loss and accuracy values**"
      ]
    },
    {
      "cell_type": "code",
      "execution_count": null,
      "metadata": {
        "colab": {
          "base_uri": "https://localhost:8080/"
        },
        "id": "aYrmw4yZUIBz",
        "outputId": "731ff7a1-9838-4372-e8ea-4dde715341b9"
      },
      "outputs": [
        {
          "name": "stdout",
          "output_type": "stream",
          "text": [
            "28/28 [==============================] - 34s 103ms/step - loss: 1.1452 - accuracy: 0.7556\n"
          ]
        },
        {
          "data": {
            "text/plain": [
              "[1.1451677083969116, 0.7556053996086121]"
            ]
          },
          "execution_count": 45,
          "metadata": {},
          "output_type": "execute_result"
        }
      ],
      "source": [
        "model.evaluate(test)"
      ]
    },
    {
      "cell_type": "markdown",
      "metadata": {},
      "source": [
        "***Our loss value looks high. We will try to decrease this value in the hyperparameters part.***\n",
        "\n",
        "***And the accuracy value could be little high. We are planning to increase this.***"
      ]
    },
    {
      "cell_type": "markdown",
      "metadata": {},
      "source": [
        "### Loss Graph"
      ]
    },
    {
      "cell_type": "code",
      "execution_count": null,
      "metadata": {
        "colab": {
          "base_uri": "https://localhost:8080/",
          "height": 294
        },
        "id": "bZBJjaxHfxUn",
        "outputId": "d74d4f3c-6eb8-43f6-b722-56382557f392"
      },
      "outputs": [
        {
          "data": {
            "image/png": "[encoded data removed]",
            "text/plain": [
              "<Figure size 432x288 with 1 Axes>"
            ]
          },
          "metadata": {
            "needs_background": "light"
          },
          "output_type": "display_data"
        }
      ],
      "source": [
        "fig = plt.figure()\n",
        "plt.plot(results.history['loss'], color='teal', label='loss')\n",
        "plt.plot(results.history['val_loss'], color='orange', label='val_loss')\n",
        "                                \n",
        "fig.suptitle('Loss', fontsize = 20)\n",
        "plt.legend(loc=\"upper left\")\n",
        "plt.show()\n",
        "                  "
      ]
    },
    {
      "cell_type": "markdown",
      "metadata": {},
      "source": [
        "### Accuracy Graph"
      ]
    },
    {
      "cell_type": "code",
      "execution_count": null,
      "metadata": {
        "colab": {
          "base_uri": "https://localhost:8080/",
          "height": 294
        },
        "id": "3-L8ZzRAtbvh",
        "outputId": "5b1d6d4b-64ea-4db9-8924-e148a01a2f24"
      },
      "outputs": [
        {
          "data": {
            "image/png": "[encoded data removed]",
            "text/plain": [
              "<Figure size 432x288 with 1 Axes>"
            ]
          },
          "metadata": {
            "needs_background": "light"
          },
          "output_type": "display_data"
        }
      ],
      "source": [
        "fig = plt.figure()\n",
        "plt.plot(results.history['accuracy'], color='teal', label='accuracy')\n",
        "plt.plot(results.history['val_accuracy'], color='orange', label='val_accuracy')\n",
        "                                \n",
        "fig.suptitle('Accuracy', fontsize = 20)\n",
        "plt.legend(loc=\"upper left\")\n",
        "plt.show()\n",
        "                                    "
      ]
    },
    {
      "cell_type": "markdown",
      "metadata": {
        "id": "2NEQDG3BATA9"
      },
      "source": [
        "***Testing with the data that we randomly downloaded from the internet. We converted it to its spectogram form. (It was a car horn sound) --just for double checking--***"
      ]
    },
    {
      "cell_type": "code",
      "execution_count": null,
      "metadata": {
        "id": "2ZByGSQxt9Nb"
      },
      "outputs": [],
      "source": [
        "newimg = cv2.imread('/content/drive/MyDrive/test.png')\n",
        "resize = tf.image.resize(newimg, (256,256))\n",
        "grayimg = tf.image.rgb_to_grayscale(resize)"
      ]
    },
    {
      "cell_type": "code",
      "execution_count": null,
      "metadata": {
        "id": "Wue987CBx-b1"
      },
      "outputs": [],
      "source": [
        "yhat = model.predict(np.expand_dims(grayimg/255, 0))"
      ]
    },
    {
      "cell_type": "code",
      "execution_count": null,
      "metadata": {
        "colab": {
          "base_uri": "https://localhost:8080/"
        },
        "id": "gzkdyQ46yumu",
        "outputId": "3147614a-e691-4395-ce01-f2c7254f3498"
      },
      "outputs": [
        {
          "data": {
            "text/plain": [
              "array([[0.0000000e+00, 1.0000000e+00, 0.0000000e+00, 0.0000000e+00,\n",
              "        3.2819379e-31, 1.9160475e-38, 0.0000000e+00, 0.0000000e+00,\n",
              "        0.0000000e+00, 2.8469700e-26]], dtype=float32)"
            ]
          },
          "execution_count": 25,
          "metadata": {},
          "output_type": "execute_result"
        }
      ],
      "source": [
        "yhat"
      ]
    },
    {
      "cell_type": "markdown",
      "metadata": {},
      "source": [
        "*As we can see, it predicted the class1 for %100 percent. And class1 was car horn class.*"
      ]
    },
    {
      "cell_type": "markdown",
      "metadata": {
        "id": "4LW-2icP95Tx"
      },
      "source": [
        "# **Hyperparameter Options**"
      ]
    },
    {
      "cell_type": "markdown",
      "metadata": {
        "id": "r3S7CqU7-Dtq"
      },
      "source": [
        "***We are going to increase dropout and change the activation function from relu to LeakyReLU***"
      ]
    },
    {
      "cell_type": "code",
      "execution_count": null,
      "metadata": {
        "id": "RaQAxuS19gnA"
      },
      "outputs": [],
      "source": [
        "model2 = Sequential()"
      ]
    },
    {
      "cell_type": "code",
      "execution_count": null,
      "metadata": {
        "id": "Lqd8FyIR-avL"
      },
      "outputs": [],
      "source": [
        "model2.add(Conv2D(64, (3,3), 1, padding=\"same\", activation='LeakyReLU', input_shape=(256,256,1)))\n",
        "model2.add(MaxPooling2D())\n",
        "\n",
        "model2.add(Conv2D(64, (3,3), 1, padding=\"same\", activation='LeakyReLU'))\n",
        "model2.add(MaxPooling2D())\n",
        "\n",
        "model2.add(Flatten())\n",
        "\n",
        "model2.add(Dense(64, activation='LeakyReLU'))\n",
        "model2.add(Dropout(0.7))\n",
        "\n",
        "model2.add(Dense(64, activation='LeakyReLU'))\n",
        "model2.add(Dropout(0.7))\n",
        "\n",
        "\n",
        "model2.add(Dense(10, activation='softmax'))"
      ]
    },
    {
      "cell_type": "code",
      "execution_count": null,
      "metadata": {
        "id": "ysx53tZo-9L6"
      },
      "outputs": [],
      "source": [
        "train_size2 = int(len(data)*.7)\n",
        "val_size2 = int(len(data)*.2) \n",
        "test_size2 = int(len(data)*.1) + 1"
      ]
    },
    {
      "cell_type": "code",
      "execution_count": null,
      "metadata": {
        "colab": {
          "base_uri": "https://localhost:8080/"
        },
        "id": "0p0dEway_Mfc",
        "outputId": "3d0af9a9-25de-47ff-fbe6-b098728aa96c"
      },
      "outputs": [
        {
          "data": {
            "text/plain": [
              "273"
            ]
          },
          "execution_count": 22,
          "metadata": {},
          "output_type": "execute_result"
        }
      ],
      "source": [
        "train_size2 + val_size2 + test_size2"
      ]
    },
    {
      "cell_type": "code",
      "execution_count": null,
      "metadata": {
        "id": "OMwyi5xc_ODm"
      },
      "outputs": [],
      "source": [
        "train2 = data.take(train_size2)\n",
        "val2 = data.skip(train_size2).take(val_size2)\n",
        "test2 = data.skip(train_size2+val_size2).take(test_size2)"
      ]
    },
    {
      "cell_type": "code",
      "execution_count": null,
      "metadata": {
        "id": "DfiA7baK_eLR"
      },
      "outputs": [],
      "source": [
        "model2.compile(optimizer=\"adam\", loss=\"sparse_categorical_crossentropy\", metrics=[\"accuracy\"])"
      ]
    },
    {
      "cell_type": "markdown",
      "metadata": {},
      "source": [
        "***Training***"
      ]
    },
    {
      "cell_type": "code",
      "execution_count": null,
      "metadata": {
        "colab": {
          "base_uri": "https://localhost:8080/"
        },
        "id": "G8-XLxDZAtSc",
        "outputId": "f7398c4c-23da-4978-cff5-cfec47710f9a"
      },
      "outputs": [
        {
          "name": "stdout",
          "output_type": "stream",
          "text": [
            "Epoch 1/50\n",
            "193/193 [==============================] - 87s 447ms/step - loss: 2.2595 - accuracy: 0.1242 - val_loss: 2.2358 - val_accuracy: 0.1897\n",
            "Epoch 2/50\n",
            "193/193 [==============================] - 65s 332ms/step - loss: 2.2256 - accuracy: 0.1430 - val_loss: 2.1471 - val_accuracy: 0.1886\n",
            "Epoch 3/50\n",
            "193/193 [==============================] - 64s 328ms/step - loss: 2.1843 - accuracy: 0.1597 - val_loss: 2.0716 - val_accuracy: 0.2434\n",
            "Epoch 4/50\n",
            "193/193 [==============================] - 72s 371ms/step - loss: 2.1371 - accuracy: 0.1818 - val_loss: 1.9860 - val_accuracy: 0.2873\n",
            "Epoch 5/50\n",
            "193/193 [==============================] - 74s 381ms/step - loss: 2.0852 - accuracy: 0.2073 - val_loss: 1.9152 - val_accuracy: 0.3580\n",
            "Epoch 6/50\n",
            "193/193 [==============================] - 69s 351ms/step - loss: 2.0454 - accuracy: 0.2296 - val_loss: 1.8978 - val_accuracy: 0.3777\n",
            "Epoch 7/50\n",
            "193/193 [==============================] - 75s 383ms/step - loss: 1.9793 - accuracy: 0.2458 - val_loss: 1.7755 - val_accuracy: 0.3920\n",
            "Epoch 8/50\n",
            "193/193 [==============================] - 79s 401ms/step - loss: 1.9364 - accuracy: 0.2581 - val_loss: 1.7327 - val_accuracy: 0.3827\n",
            "Epoch 9/50\n",
            "193/193 [==============================] - 81s 416ms/step - loss: 1.9157 - accuracy: 0.2636 - val_loss: 1.7264 - val_accuracy: 0.4013\n",
            "Epoch 10/50\n",
            "193/193 [==============================] - 77s 393ms/step - loss: 1.8754 - accuracy: 0.2751 - val_loss: 1.6210 - val_accuracy: 0.4326\n",
            "Epoch 11/50\n",
            "193/193 [==============================] - 79s 405ms/step - loss: 1.8502 - accuracy: 0.2762 - val_loss: 1.6296 - val_accuracy: 0.4496\n",
            "Epoch 12/50\n",
            "193/193 [==============================] - 78s 401ms/step - loss: 1.8226 - accuracy: 0.2869 - val_loss: 1.5514 - val_accuracy: 0.4572\n",
            "Epoch 13/50\n",
            "193/193 [==============================] - 80s 413ms/step - loss: 1.8005 - accuracy: 0.2848 - val_loss: 1.5555 - val_accuracy: 0.4627\n",
            "Epoch 14/50\n",
            "193/193 [==============================] - 78s 398ms/step - loss: 1.7846 - accuracy: 0.2986 - val_loss: 1.5256 - val_accuracy: 0.4671\n",
            "Epoch 15/50\n",
            "193/193 [==============================] - 78s 401ms/step - loss: 1.7501 - accuracy: 0.3036 - val_loss: 1.5114 - val_accuracy: 0.4463\n",
            "Epoch 16/50\n",
            "193/193 [==============================] - 80s 407ms/step - loss: 1.7106 - accuracy: 0.3242 - val_loss: 1.4921 - val_accuracy: 0.4720\n",
            "Epoch 17/50\n",
            "193/193 [==============================] - 69s 352ms/step - loss: 1.6937 - accuracy: 0.3237 - val_loss: 1.4815 - val_accuracy: 0.4441\n",
            "Epoch 18/50\n",
            "193/193 [==============================] - 69s 354ms/step - loss: 1.6858 - accuracy: 0.3264 - val_loss: 1.4417 - val_accuracy: 0.4852\n",
            "Epoch 19/50\n",
            "193/193 [==============================] - 77s 390ms/step - loss: 1.6749 - accuracy: 0.3292 - val_loss: 1.4803 - val_accuracy: 0.4764\n",
            "Epoch 20/50\n",
            "193/193 [==============================] - 77s 393ms/step - loss: 1.6329 - accuracy: 0.3475 - val_loss: 1.4562 - val_accuracy: 0.4594\n",
            "Epoch 21/50\n",
            "193/193 [==============================] - 74s 380ms/step - loss: 1.6334 - accuracy: 0.3407 - val_loss: 1.4250 - val_accuracy: 0.4825\n",
            "Epoch 22/50\n",
            "193/193 [==============================] - 76s 389ms/step - loss: 1.6156 - accuracy: 0.3565 - val_loss: 1.4099 - val_accuracy: 0.4786\n",
            "Epoch 23/50\n",
            "193/193 [==============================] - 74s 378ms/step - loss: 1.6024 - accuracy: 0.3596 - val_loss: 1.4209 - val_accuracy: 0.4841\n",
            "Epoch 24/50\n",
            "193/193 [==============================] - 72s 371ms/step - loss: 1.5954 - accuracy: 0.3554 - val_loss: 1.3890 - val_accuracy: 0.4857\n",
            "Epoch 25/50\n",
            "193/193 [==============================] - 73s 374ms/step - loss: 1.5936 - accuracy: 0.3562 - val_loss: 1.3853 - val_accuracy: 0.5027\n",
            "Epoch 26/50\n",
            "193/193 [==============================] - 72s 367ms/step - loss: 1.5704 - accuracy: 0.3582 - val_loss: 1.3957 - val_accuracy: 0.4775\n",
            "Epoch 27/50\n",
            "193/193 [==============================] - 73s 372ms/step - loss: 1.5591 - accuracy: 0.3609 - val_loss: 1.3893 - val_accuracy: 0.5093\n",
            "Epoch 28/50\n",
            "193/193 [==============================] - 73s 373ms/step - loss: 1.5407 - accuracy: 0.3790 - val_loss: 1.3568 - val_accuracy: 0.5060\n",
            "Epoch 29/50\n",
            "193/193 [==============================] - 72s 370ms/step - loss: 1.5590 - accuracy: 0.3710 - val_loss: 1.3670 - val_accuracy: 0.4929\n",
            "Epoch 30/50\n",
            "193/193 [==============================] - 75s 385ms/step - loss: 1.5201 - accuracy: 0.3862 - val_loss: 1.3995 - val_accuracy: 0.5066\n",
            "Epoch 31/50\n",
            "193/193 [==============================] - 72s 368ms/step - loss: 1.5080 - accuracy: 0.3881 - val_loss: 1.3845 - val_accuracy: 0.5011\n",
            "Epoch 32/50\n",
            "193/193 [==============================] - 76s 387ms/step - loss: 1.5115 - accuracy: 0.3821 - val_loss: 1.3576 - val_accuracy: 0.5000\n",
            "Epoch 33/50\n",
            "193/193 [==============================] - 74s 375ms/step - loss: 1.4973 - accuracy: 0.3910 - val_loss: 1.3691 - val_accuracy: 0.4759\n",
            "Epoch 34/50\n",
            "193/193 [==============================] - 73s 375ms/step - loss: 1.4812 - accuracy: 0.4041 - val_loss: 1.3714 - val_accuracy: 0.4841\n",
            "Epoch 35/50\n",
            "193/193 [==============================] - 64s 329ms/step - loss: 1.4870 - accuracy: 0.3977 - val_loss: 1.3586 - val_accuracy: 0.4989\n",
            "Epoch 36/50\n",
            "193/193 [==============================] - 63s 322ms/step - loss: 1.4774 - accuracy: 0.3983 - val_loss: 1.3941 - val_accuracy: 0.5110\n",
            "Epoch 37/50\n",
            "193/193 [==============================] - 62s 319ms/step - loss: 1.4660 - accuracy: 0.4177 - val_loss: 1.3764 - val_accuracy: 0.4896\n",
            "Epoch 38/50\n",
            "193/193 [==============================] - 60s 306ms/step - loss: 1.4835 - accuracy: 0.4054 - val_loss: 1.3388 - val_accuracy: 0.5269\n",
            "Epoch 39/50\n",
            "193/193 [==============================] - 62s 316ms/step - loss: 1.4641 - accuracy: 0.4090 - val_loss: 1.3935 - val_accuracy: 0.5285\n",
            "Epoch 40/50\n",
            "193/193 [==============================] - 60s 308ms/step - loss: 1.4675 - accuracy: 0.4179 - val_loss: 1.3879 - val_accuracy: 0.4748\n",
            "Epoch 41/50\n",
            "193/193 [==============================] - 59s 303ms/step - loss: 1.4520 - accuracy: 0.4199 - val_loss: 1.3932 - val_accuracy: 0.5186\n",
            "Epoch 42/50\n",
            "193/193 [==============================] - 60s 305ms/step - loss: 1.4378 - accuracy: 0.4270 - val_loss: 1.4102 - val_accuracy: 0.5066\n",
            "Epoch 43/50\n",
            "193/193 [==============================] - 60s 308ms/step - loss: 1.4270 - accuracy: 0.4252 - val_loss: 1.3730 - val_accuracy: 0.5307\n",
            "Epoch 44/50\n",
            "193/193 [==============================] - 60s 309ms/step - loss: 1.4241 - accuracy: 0.4335 - val_loss: 1.4087 - val_accuracy: 0.5482\n",
            "Epoch 45/50\n",
            "193/193 [==============================] - 62s 319ms/step - loss: 1.4310 - accuracy: 0.4286 - val_loss: 1.4083 - val_accuracy: 0.5088\n",
            "Epoch 46/50\n",
            "193/193 [==============================] - 61s 309ms/step - loss: 1.4171 - accuracy: 0.4412 - val_loss: 1.3881 - val_accuracy: 0.5192\n",
            "Epoch 47/50\n",
            "193/193 [==============================] - 60s 309ms/step - loss: 1.4174 - accuracy: 0.4359 - val_loss: 1.3704 - val_accuracy: 0.5027\n",
            "Epoch 48/50\n",
            "193/193 [==============================] - 61s 312ms/step - loss: 1.3864 - accuracy: 0.4545 - val_loss: 1.4612 - val_accuracy: 0.5060\n",
            "Epoch 49/50\n",
            "193/193 [==============================] - 61s 311ms/step - loss: 1.4345 - accuracy: 0.4394 - val_loss: 1.4698 - val_accuracy: 0.4879\n",
            "Epoch 50/50\n",
            "193/193 [==============================] - 60s 308ms/step - loss: 1.4053 - accuracy: 0.4496 - val_loss: 1.4481 - val_accuracy: 0.4907\n"
          ]
        }
      ],
      "source": [
        "results2 = model2.fit(train2, epochs= 50, validation_data=val2, batch_size=128)"
      ]
    },
    {
      "cell_type": "markdown",
      "metadata": {},
      "source": [
        "***Testing the model and checking the graphs***"
      ]
    },
    {
      "cell_type": "code",
      "execution_count": null,
      "metadata": {
        "colab": {
          "base_uri": "https://localhost:8080/"
        },
        "id": "IEaSaNcQTeP4",
        "outputId": "91898560-5e25-47da-8aa4-28c27e26a084"
      },
      "outputs": [
        {
          "name": "stdout",
          "output_type": "stream",
          "text": [
            "23/23 [==============================] - 114s 4s/step - loss: 1.6135 - accuracy: 0.4809\n"
          ]
        },
        {
          "data": {
            "text/plain": [
              "[1.613547921180725, 0.48087432980537415]"
            ]
          },
          "execution_count": 44,
          "metadata": {},
          "output_type": "execute_result"
        }
      ],
      "source": [
        "model2.evaluate(test2)"
      ]
    },
    {
      "cell_type": "markdown",
      "metadata": {},
      "source": [
        "***As we can see this makes things worse.***"
      ]
    },
    {
      "cell_type": "code",
      "execution_count": null,
      "metadata": {
        "colab": {
          "base_uri": "https://localhost:8080/",
          "height": 294
        },
        "id": "RaUTiwGbA3Gl",
        "outputId": "34f5cb57-1f8c-4246-c384-b5e7949fb42c"
      },
      "outputs": [
        {
          "data": {
            "image/png": "[encoded data removed]",
            "text/plain": [
              "<Figure size 432x288 with 1 Axes>"
            ]
          },
          "metadata": {
            "needs_background": "light"
          },
          "output_type": "display_data"
        }
      ],
      "source": [
        "fig = plt.figure()\n",
        "plt.plot(results2.history['loss'], color='teal', label='loss')\n",
        "plt.plot(results2.history['val_loss'], color='orange', label='val_loss')\n",
        "                                \n",
        "fig.suptitle('Loss', fontsize = 20)\n",
        "plt.legend(loc=\"upper left\")\n",
        "plt.show()\n",
        "                  "
      ]
    },
    {
      "cell_type": "code",
      "execution_count": null,
      "metadata": {
        "colab": {
          "base_uri": "https://localhost:8080/",
          "height": 294
        },
        "id": "4akDYeR1Q2NY",
        "outputId": "81706ecf-1317-4085-aa68-68b3adfe15fc"
      },
      "outputs": [
        {
          "data": {
            "image/png": "[encoded data removed]",
            "text/plain": [
              "<Figure size 432x288 with 1 Axes>"
            ]
          },
          "metadata": {
            "needs_background": "light"
          },
          "output_type": "display_data"
        }
      ],
      "source": [
        "fig = plt.figure()\n",
        "plt.plot(results2.history['accuracy'], color='teal', label='accuracy')\n",
        "plt.plot(results2.history['val_accuracy'], color='orange', label='val_accuracy')\n",
        "                                \n",
        "fig.suptitle('Accuracy', fontsize = 20)\n",
        "plt.legend(loc=\"upper left\")\n",
        "plt.show()\n",
        "                                    "
      ]
    },
    {
      "cell_type": "markdown",
      "metadata": {},
      "source": [
        "***Maybe graphs seem like there is no overfit. However, our loss values are too high. Besides, our accuracy values are too small. We need to fix this.***"
      ]
    },
    {
      "cell_type": "markdown",
      "metadata": {},
      "source": [
        "## **Hyperparamater Options #2**"
      ]
    },
    {
      "cell_type": "markdown",
      "metadata": {
        "id": "20XnqUg5TQJ9"
      },
      "source": [
        "***We will use the old activation function and the dropout value (relu function and 0.5 droput)***\n",
        "  \n",
        "***We are not touching the epochs due to the graphics that we saw above. It seems like 50 epochs are good for convergence for our dataset for now.***\n",
        "\n",
        "***This time we are going to add 1 more convolutional layer and we will use 32 neurons for the first convolutional layer***"
      ]
    },
    {
      "cell_type": "code",
      "execution_count": 11,
      "metadata": {
        "colab": {
          "base_uri": "https://localhost:8080/"
        },
        "id": "CmcDRN5cUg4n",
        "outputId": "db3e68be-f8e8-4c15-dc02-c63674d75f94"
      },
      "outputs": [
        {
          "name": "stdout",
          "output_type": "stream",
          "text": [
            "Found 8732 files belonging to 10 classes.\n"
          ]
        }
      ],
      "source": [
        "data2 = tf.keras.utils.image_dataset_from_directory(\"/content/drive/MyDrive/data/data\", color_mode='grayscale', image_size=(256, 256), batch_size=32)"
      ]
    },
    {
      "cell_type": "code",
      "execution_count": 12,
      "metadata": {
        "id": "ZdBKAFnXQ5CI"
      },
      "outputs": [],
      "source": [
        "data2 =  data2.map(lambda x,y: (x/255, y))"
      ]
    },
    {
      "cell_type": "code",
      "execution_count": 13,
      "metadata": {
        "colab": {
          "base_uri": "https://localhost:8080/"
        },
        "id": "FFQ5xjTssxab",
        "outputId": "ee11453f-680e-4613-e185-19af4008450d"
      },
      "outputs": [
        {
          "data": {
            "text/plain": [
              "273"
            ]
          },
          "execution_count": 13,
          "metadata": {},
          "output_type": "execute_result"
        }
      ],
      "source": [
        "len(data2)"
      ]
    },
    {
      "cell_type": "code",
      "execution_count": 14,
      "metadata": {
        "id": "3pQUNuqLUSnw"
      },
      "outputs": [],
      "source": [
        "train_size3 = int(len(data2)*.7) \n",
        "val_size3 = int(len(data2)*.2)\n",
        "test_size3 = int(len(data2)*.1) + 1 "
      ]
    },
    {
      "cell_type": "code",
      "execution_count": 15,
      "metadata": {
        "colab": {
          "base_uri": "https://localhost:8080/"
        },
        "id": "nR0bNZlmsEj2",
        "outputId": "c94126a9-2944-4058-fea2-d78109f9fe94"
      },
      "outputs": [
        {
          "data": {
            "text/plain": [
              "273"
            ]
          },
          "execution_count": 15,
          "metadata": {},
          "output_type": "execute_result"
        }
      ],
      "source": [
        "train_size3+val_size3+test_size3"
      ]
    },
    {
      "cell_type": "code",
      "execution_count": 16,
      "metadata": {
        "id": "6kgtrr7_Vn5E"
      },
      "outputs": [],
      "source": [
        "train3 = data2.take(train_size3)\n",
        "val3 = data2.skip(train_size3).take(val_size3)\n",
        "test3 = data2.skip(train_size3+val_size3).take(test_size3)"
      ]
    },
    {
      "cell_type": "code",
      "execution_count": 30,
      "metadata": {
        "id": "BH_PJsUPVny_"
      },
      "outputs": [],
      "source": [
        "model3 = Sequential()"
      ]
    },
    {
      "cell_type": "markdown",
      "metadata": {},
      "source": [
        "***Adding convolutional layer***"
      ]
    },
    {
      "cell_type": "code",
      "execution_count": 31,
      "metadata": {
        "id": "bvnsoWeSV7u_"
      },
      "outputs": [],
      "source": [
        "model3.add(Conv2D(32, (3,3), 1, padding=\"same\", activation='relu', input_shape=(256,256,1)))\n",
        "model3.add(MaxPooling2D(2,2))\n",
        "\n",
        "model3.add(Conv2D(64, (3,3), 1, padding=\"same\", activation='relu'))\n",
        "model3.add(MaxPooling2D(2,2))\n",
        "\n",
        "model3.add(Conv2D(64, (3,3), 1, padding=\"same\", activation='relu'))\n",
        "model3.add(MaxPooling2D(2,2))\n",
        "\n",
        "model3.add(Flatten())\n",
        " \n",
        "model3.add(Dense(64, activation='relu'))\n",
        "model3.add(Dropout(0.5))\n",
        "\n",
        "model3.add(Dense(64, activation='relu'))\n",
        "model3.add(Dropout(0.5))\n",
        "\n",
        "\n",
        "model3.add(Dense(10, activation='softmax'))"
      ]
    },
    {
      "cell_type": "code",
      "execution_count": 32,
      "metadata": {
        "id": "0WP_ZBCVXeTc"
      },
      "outputs": [],
      "source": [
        "model3.compile(optimizer=\"adam\", loss=\"sparse_categorical_crossentropy\", metrics=[\"accuracy\"])"
      ]
    },
    {
      "cell_type": "markdown",
      "metadata": {},
      "source": [
        "***Training***"
      ]
    },
    {
      "cell_type": "code",
      "execution_count": 33,
      "metadata": {
        "colab": {
          "base_uri": "https://localhost:8080/"
        },
        "id": "g5jiE5sTPnzR",
        "outputId": "fa2a6c59-4e91-418c-887d-97a144852a24"
      },
      "outputs": [
        {
          "name": "stdout",
          "output_type": "stream",
          "text": [
            "Epoch 1/50\n",
            "191/191 [==============================] - 59s 303ms/step - loss: 2.0735 - accuracy: 0.2313 - val_loss: 1.5673 - val_accuracy: 0.4531\n",
            "Epoch 2/50\n",
            "191/191 [==============================] - 56s 292ms/step - loss: 1.7231 - accuracy: 0.3665 - val_loss: 1.3043 - val_accuracy: 0.5764\n",
            "Epoch 3/50\n",
            "191/191 [==============================] - 59s 304ms/step - loss: 1.4720 - accuracy: 0.4638 - val_loss: 1.1215 - val_accuracy: 0.6863\n",
            "Epoch 4/50\n",
            "191/191 [==============================] - 57s 296ms/step - loss: 1.2619 - accuracy: 0.5317 - val_loss: 0.9287 - val_accuracy: 0.7350\n",
            "Epoch 5/50\n",
            "191/191 [==============================] - 57s 294ms/step - loss: 1.1382 - accuracy: 0.5852 - val_loss: 0.8076 - val_accuracy: 0.7610\n",
            "Epoch 6/50\n",
            "191/191 [==============================] - 57s 294ms/step - loss: 1.0313 - accuracy: 0.6360 - val_loss: 0.7668 - val_accuracy: 0.7633\n",
            "Epoch 7/50\n",
            "191/191 [==============================] - 57s 295ms/step - loss: 0.9298 - accuracy: 0.6538 - val_loss: 0.7080 - val_accuracy: 0.7865\n",
            "Epoch 8/50\n",
            "191/191 [==============================] - 58s 299ms/step - loss: 0.8598 - accuracy: 0.6823 - val_loss: 0.7069 - val_accuracy: 0.7737\n",
            "Epoch 9/50\n",
            "191/191 [==============================] - 58s 298ms/step - loss: 0.7988 - accuracy: 0.7080 - val_loss: 0.6456 - val_accuracy: 0.8102\n",
            "Epoch 10/50\n",
            "191/191 [==============================] - 59s 305ms/step - loss: 0.7374 - accuracy: 0.7253 - val_loss: 0.6316 - val_accuracy: 0.8090\n",
            "Epoch 11/50\n",
            "191/191 [==============================] - 57s 292ms/step - loss: 0.7089 - accuracy: 0.7399 - val_loss: 0.6071 - val_accuracy: 0.8194\n",
            "Epoch 12/50\n",
            "191/191 [==============================] - 58s 300ms/step - loss: 0.6352 - accuracy: 0.7655 - val_loss: 0.6085 - val_accuracy: 0.8339\n",
            "Epoch 13/50\n",
            "191/191 [==============================] - 57s 295ms/step - loss: 0.6143 - accuracy: 0.7719 - val_loss: 0.7133 - val_accuracy: 0.8171\n",
            "Epoch 14/50\n",
            "191/191 [==============================] - 59s 302ms/step - loss: 0.5932 - accuracy: 0.7848 - val_loss: 0.6179 - val_accuracy: 0.8432\n",
            "Epoch 15/50\n",
            "191/191 [==============================] - 57s 295ms/step - loss: 0.5908 - accuracy: 0.7791 - val_loss: 0.6004 - val_accuracy: 0.8391\n",
            "Epoch 16/50\n",
            "191/191 [==============================] - 57s 296ms/step - loss: 0.5351 - accuracy: 0.8017 - val_loss: 0.6107 - val_accuracy: 0.8438\n",
            "Epoch 17/50\n",
            "191/191 [==============================] - 59s 303ms/step - loss: 0.5409 - accuracy: 0.7956 - val_loss: 0.5692 - val_accuracy: 0.8478\n",
            "Epoch 18/50\n",
            "191/191 [==============================] - 57s 294ms/step - loss: 0.5140 - accuracy: 0.8102 - val_loss: 0.5789 - val_accuracy: 0.8594\n",
            "Epoch 19/50\n",
            "191/191 [==============================] - 59s 304ms/step - loss: 0.4891 - accuracy: 0.8164 - val_loss: 0.6817 - val_accuracy: 0.8345\n",
            "Epoch 20/50\n",
            "191/191 [==============================] - 56s 289ms/step - loss: 0.5184 - accuracy: 0.8117 - val_loss: 0.6491 - val_accuracy: 0.8507\n",
            "Epoch 21/50\n",
            "191/191 [==============================] - 58s 297ms/step - loss: 0.4816 - accuracy: 0.8235 - val_loss: 0.6205 - val_accuracy: 0.8478\n",
            "Epoch 22/50\n",
            "191/191 [==============================] - 56s 290ms/step - loss: 0.4783 - accuracy: 0.8243 - val_loss: 0.6179 - val_accuracy: 0.8501\n",
            "Epoch 23/50\n",
            "191/191 [==============================] - 57s 297ms/step - loss: 0.4674 - accuracy: 0.8277 - val_loss: 0.6244 - val_accuracy: 0.8530\n",
            "Epoch 24/50\n",
            "191/191 [==============================] - 56s 289ms/step - loss: 0.4865 - accuracy: 0.8266 - val_loss: 0.5967 - val_accuracy: 0.8542\n",
            "Epoch 25/50\n",
            "191/191 [==============================] - 62s 319ms/step - loss: 0.4379 - accuracy: 0.8364 - val_loss: 0.6005 - val_accuracy: 0.8547\n",
            "Epoch 26/50\n",
            "191/191 [==============================] - 62s 320ms/step - loss: 0.4420 - accuracy: 0.8420 - val_loss: 0.6220 - val_accuracy: 0.8611\n",
            "Epoch 27/50\n",
            "191/191 [==============================] - 58s 297ms/step - loss: 0.4357 - accuracy: 0.8364 - val_loss: 0.6044 - val_accuracy: 0.8547\n",
            "Epoch 28/50\n",
            "191/191 [==============================] - 60s 307ms/step - loss: 0.4261 - accuracy: 0.8470 - val_loss: 0.6518 - val_accuracy: 0.8472\n",
            "Epoch 29/50\n",
            "191/191 [==============================] - 58s 298ms/step - loss: 0.4228 - accuracy: 0.8496 - val_loss: 0.7343 - val_accuracy: 0.8513\n",
            "Epoch 30/50\n",
            "191/191 [==============================] - 58s 297ms/step - loss: 0.4001 - accuracy: 0.8532 - val_loss: 0.6659 - val_accuracy: 0.8594\n",
            "Epoch 31/50\n",
            "191/191 [==============================] - 57s 296ms/step - loss: 0.3909 - accuracy: 0.8583 - val_loss: 0.6316 - val_accuracy: 0.8600\n",
            "Epoch 32/50\n",
            "191/191 [==============================] - 57s 296ms/step - loss: 0.4112 - accuracy: 0.8436 - val_loss: 0.6607 - val_accuracy: 0.8565\n",
            "Epoch 33/50\n",
            "191/191 [==============================] - 64s 326ms/step - loss: 0.3859 - accuracy: 0.8567 - val_loss: 0.6794 - val_accuracy: 0.8634\n",
            "Epoch 34/50\n",
            "191/191 [==============================] - 58s 299ms/step - loss: 0.3916 - accuracy: 0.8519 - val_loss: 0.6740 - val_accuracy: 0.8582\n",
            "Epoch 35/50\n",
            "191/191 [==============================] - 59s 302ms/step - loss: 0.4194 - accuracy: 0.8464 - val_loss: 0.7457 - val_accuracy: 0.8478\n",
            "Epoch 36/50\n",
            "191/191 [==============================] - 59s 303ms/step - loss: 0.4069 - accuracy: 0.8549 - val_loss: 0.6278 - val_accuracy: 0.8588\n",
            "Epoch 37/50\n",
            "191/191 [==============================] - 58s 297ms/step - loss: 0.4013 - accuracy: 0.8496 - val_loss: 0.7205 - val_accuracy: 0.8524\n",
            "Epoch 38/50\n",
            "191/191 [==============================] - 56s 291ms/step - loss: 0.3827 - accuracy: 0.8581 - val_loss: 0.6840 - val_accuracy: 0.8611\n",
            "Epoch 39/50\n",
            "191/191 [==============================] - 57s 292ms/step - loss: 0.4124 - accuracy: 0.8539 - val_loss: 0.7722 - val_accuracy: 0.8501\n",
            "Epoch 40/50\n",
            "191/191 [==============================] - 58s 301ms/step - loss: 0.3881 - accuracy: 0.8596 - val_loss: 0.7065 - val_accuracy: 0.8605\n",
            "Epoch 41/50\n",
            "191/191 [==============================] - 56s 291ms/step - loss: 0.3785 - accuracy: 0.8604 - val_loss: 0.6909 - val_accuracy: 0.8559\n",
            "Epoch 42/50\n",
            "191/191 [==============================] - 57s 296ms/step - loss: 0.3505 - accuracy: 0.8709 - val_loss: 0.7643 - val_accuracy: 0.8634\n",
            "Epoch 43/50\n",
            "191/191 [==============================] - 56s 291ms/step - loss: 0.3823 - accuracy: 0.8624 - val_loss: 0.6153 - val_accuracy: 0.8542\n",
            "Epoch 44/50\n",
            "191/191 [==============================] - 57s 292ms/step - loss: 0.3514 - accuracy: 0.8681 - val_loss: 0.6596 - val_accuracy: 0.8576\n",
            "Epoch 45/50\n",
            "191/191 [==============================] - 57s 296ms/step - loss: 0.3413 - accuracy: 0.8693 - val_loss: 0.7003 - val_accuracy: 0.8628\n",
            "Epoch 46/50\n",
            "191/191 [==============================] - 56s 291ms/step - loss: 0.3372 - accuracy: 0.8763 - val_loss: 0.7189 - val_accuracy: 0.8600\n",
            "Epoch 47/50\n",
            "191/191 [==============================] - 57s 293ms/step - loss: 0.3465 - accuracy: 0.8739 - val_loss: 0.7946 - val_accuracy: 0.8576\n",
            "Epoch 48/50\n",
            "191/191 [==============================] - 57s 295ms/step - loss: 0.3280 - accuracy: 0.8796 - val_loss: 0.7287 - val_accuracy: 0.8565\n",
            "Epoch 49/50\n",
            "191/191 [==============================] - 57s 293ms/step - loss: 0.3582 - accuracy: 0.8696 - val_loss: 0.6650 - val_accuracy: 0.8461\n",
            "Epoch 50/50\n",
            "191/191 [==============================] - 59s 303ms/step - loss: 0.3308 - accuracy: 0.8755 - val_loss: 0.6908 - val_accuracy: 0.8652\n"
          ]
        }
      ],
      "source": [
        "results3= model3.fit(train3, epochs= 50, validation_data=val3, batch_size=128)"
      ]
    },
    {
      "cell_type": "markdown",
      "metadata": {},
      "source": [
        "***Saving the model***"
      ]
    },
    {
      "cell_type": "code",
      "execution_count": 35,
      "metadata": {
        "id": "0TdgdtE50qs0"
      },
      "outputs": [],
      "source": [
        "model3.save(os.path.join(\"/content/drive/MyDrive/data\", \"fullmodellast.h5\"))"
      ]
    },
    {
      "cell_type": "markdown",
      "metadata": {},
      "source": [
        "***Testing the model and checking the graphs***"
      ]
    },
    {
      "cell_type": "code",
      "execution_count": 36,
      "metadata": {
        "colab": {
          "base_uri": "https://localhost:8080/"
        },
        "id": "yF1Te9Es02RY",
        "outputId": "c725148c-5d11-4c18-a675-20e35d3744ae"
      },
      "outputs": [
        {
          "name": "stdout",
          "output_type": "stream",
          "text": [
            "28/28 [==============================] - 318s 10s/step - loss: 0.8865 - accuracy: 0.8419\n"
          ]
        },
        {
          "data": {
            "text/plain": [
              "[0.8864737153053284, 0.841928243637085]"
            ]
          },
          "execution_count": 36,
          "metadata": {},
          "output_type": "execute_result"
        }
      ],
      "source": [
        "model3.evaluate(test3)"
      ]
    },
    {
      "cell_type": "code",
      "execution_count": 37,
      "metadata": {
        "colab": {
          "base_uri": "https://localhost:8080/",
          "height": 294
        },
        "id": "lc8FqWhD04Gq",
        "outputId": "15213403-3948-4f99-c6b9-5a29108c824b"
      },
      "outputs": [
        {
          "data": {
            "image/png": "[encoded data removed]",
            "text/plain": [
              "<Figure size 432x288 with 1 Axes>"
            ]
          },
          "metadata": {
            "needs_background": "light"
          },
          "output_type": "display_data"
        }
      ],
      "source": [
        "fig = plt.figure()\n",
        "plt.plot(results3.history['loss'], color='teal', label='loss')\n",
        "plt.plot(results3.history['val_loss'], color='orange', label='val_loss')\n",
        "                                \n",
        "fig.suptitle('Loss', fontsize = 20)\n",
        "plt.legend(loc=\"upper left\")\n",
        "plt.show()\n",
        "                  "
      ]
    },
    {
      "cell_type": "code",
      "execution_count": 38,
      "metadata": {
        "colab": {
          "base_uri": "https://localhost:8080/",
          "height": 294
        },
        "id": "NJ6MNPjj2f53",
        "outputId": "5f1747d6-61c3-4e68-f596-c1f98ed296a8"
      },
      "outputs": [
        {
          "data": {
            "image/png": "[encoded data removed]",
            "text/plain": [
              "<Figure size 432x288 with 1 Axes>"
            ]
          },
          "metadata": {
            "needs_background": "light"
          },
          "output_type": "display_data"
        }
      ],
      "source": [
        "fig = plt.figure()\n",
        "plt.plot(results3.history['accuracy'], color='teal', label='accuracy')\n",
        "plt.plot(results3.history['val_accuracy'], color='orange', label='val_accuracy')\n",
        "                                \n",
        "fig.suptitle('Accuracy', fontsize = 20)\n",
        "plt.legend(loc=\"upper left\")\n",
        "plt.show()\n",
        "                                    "
      ]
    },
    {
      "cell_type": "markdown",
      "metadata": {},
      "source": [
        "***As we can see, our model has become better than its predecessors.*** \n",
        "***However, we are wanting to make a one big final hyperparameter changing part***"
      ]
    },
    {
      "cell_type": "markdown",
      "metadata": {},
      "source": [
        "## **Hyperparamater Options #3**"
      ]
    },
    {
      "cell_type": "markdown",
      "metadata": {
        "id": "20XnqUg5TQJ9"
      },
      "source": [
        "  ***In this section, we will change many parameters. In fact, the changes made in this section are the results of various inferences that we have tried and observed dozens of times before. Instead of showing all these changes one by one and prolonging it for nothing, all the changes will be applied at once and the model will be trained accordingly.***\n",
        "\n",
        " ***______________________________________________________________________________________________________________________________________________________________________***\n",
        "\n",
        "\n",
        "\n",
        "*About the changes to be made in this section:*\n",
        "\n",
        "**-- As we know, changing the batch size can have a positive impact on the model. Therefore, Firstly, we will change the batch size from 32 to 8**\n",
        "\n",
        "**-- We will increase the validation data**\n",
        "\n",
        "**-- We have decided to reduce the complexity of our model. Because we have realized that the validation data are not moving down after a while. We will do this dilution process by reducing the number of neurons in the convolutional layers. On top of that, instead of using two hidden layers, we will use a single hidden layer with more neurons.**\n",
        "  \n",
        "**-- At the same time, we will try to fix this validation data problem by reducing the learning rate parameter a little.**\n",
        "\n",
        "**-- And finally, we will not use the batch_size parameter when fitting the model**\n",
        "\n",
        " ***______________________________________________________________________________________________________________________________________________________________________***\n",
        " \n",
        "**NOTE: We could not increase the number of epochs due to the problems we had in google colab. Since we do not have any other gpu infrastructure, we preferred to be limited to 50 epochs.***\n",
        "\n"
      ]
    },
    {
      "cell_type": "code",
      "execution_count": null,
      "metadata": {
        "colab": {
          "base_uri": "https://localhost:8080/"
        },
        "id": "i_ze8T954euJ",
        "outputId": "f53cfa5e-dc4d-453d-fd4f-9665ab0651b1"
      },
      "outputs": [
        {
          "name": "stdout",
          "output_type": "stream",
          "text": [
            "Found 8732 files belonging to 10 classes.\n"
          ]
        }
      ],
      "source": [
        "data = tf.keras.utils.image_dataset_from_directory(r\"C:\\Users\\sertac\\Desktop\\data\", color_mode='grayscale', image_size=(256, 256), batch_size=8)"
      ]
    },
    {
      "cell_type": "code",
      "execution_count": null,
      "metadata": {
        "id": "ZdBKAFnXQ5CI"
      },
      "outputs": [],
      "source": [
        "data2 =  data2.map(lambda x,y: (x/255, y))"
      ]
    },
    {
      "cell_type": "code",
      "execution_count": null,
      "metadata": {
        "colab": {
          "base_uri": "https://localhost:8080/"
        },
        "id": "FFQ5xjTssxab",
        "outputId": "fdd8f8c0-2e3f-4153-e7ee-a365f15d78be"
      },
      "outputs": [
        {
          "data": {
            "text/plain": [
              "1092"
            ]
          },
          "metadata": {},
          "output_type": "display_data"
        }
      ],
      "source": [
        "len(data2)"
      ]
    },
    {
      "cell_type": "code",
      "execution_count": null,
      "metadata": {
        "id": "3pQUNuqLUSnw"
      },
      "outputs": [],
      "source": [
        "train_size3 = int(len(data2)*.6) \n",
        "val_size3 = int(len(data2)*.2)\n",
        "test_size3 = int(len(data2)*.15)"
      ]
    },
    {
      "cell_type": "code",
      "execution_count": null,
      "metadata": {
        "colab": {
          "base_uri": "https://localhost:8080/"
        },
        "id": "nR0bNZlmsEj2",
        "outputId": "69f354c9-b7cc-4c12-e950-1b0c03591ebe"
      },
      "outputs": [
        {
          "data": {
            "text/plain": [
              "1092"
            ]
          },
          "metadata": {},
          "output_type": "display_data"
        }
      ],
      "source": [
        "train_size3+val_size3+test_size3"
      ]
    },
    {
      "cell_type": "code",
      "execution_count": null,
      "metadata": {
        "id": "6kgtrr7_Vn5E"
      },
      "outputs": [],
      "source": [
        "train3 = data2.take(train_size3)\n",
        "val3 = data2.skip(train_size3).take(val_size3)\n",
        "test3 = data2.skip(train_size3+val_size3).take(test_size3)"
      ]
    },
    {
      "cell_type": "code",
      "execution_count": null,
      "metadata": {
        "id": "BH_PJsUPVny_"
      },
      "outputs": [],
      "source": [
        "model3 = Sequential()"
      ]
    },
    {
      "cell_type": "code",
      "execution_count": null,
      "metadata": {
        "id": "bvnsoWeSV7u_"
      },
      "outputs": [],
      "source": [
        "model3.add(Conv2D(16, (3,3), 1, padding=\"same\", activation='relu', input_shape=(256,256,1)))\n",
        "model3.add(MaxPooling2D(2,2))\n",
        "\n",
        "model3.add(Conv2D(32, (3,3), 1, padding=\"same\", activation='relu'))\n",
        "model3.add(MaxPooling2D(2,2))\n",
        "\n",
        "model3.add(Conv2D(16, (3,3), 1, padding=\"same\", activation='relu'))\n",
        "model3.add(MaxPooling2D(2,2))\n",
        "\n",
        "model3.add(Flatten())\n",
        " \n",
        "model3.add(Dense(128, activation='relu'))\n",
        "model3.add(Dropout(0.8))\n",
        "\n",
        "\n",
        "model3.add(Dense(10, activation='softmax'))"
      ]
    },
    {
      "cell_type": "code",
      "execution_count": null,
      "metadata": {
        "id": "0WP_ZBCVXeTc"
      },
      "outputs": [],
      "source": [
        "model3.compile(optimizer=tf.keras.optimizers.Adam(learning_rate=0.0007), loss=\"sparse_categorical_crossentropy\", metrics=[\"accuracy\"])"
      ]
    },
    {
      "cell_type": "markdown",
      "metadata": {},
      "source": [
        "***Training***"
      ]
    },
    {
      "cell_type": "code",
      "execution_count": null,
      "metadata": {
        "colab": {
          "base_uri": "https://localhost:8080/"
        },
        "id": "5V8smgYl7OMm",
        "outputId": "4efcc0a7-6832-40d5-eae9-8621e0504766"
      },
      "outputs": [
        {
          "name": "stdout",
          "output_type": "stream",
          "text": [
            "Epoch 1/50\n",
            "698/698 [==============================] - 20s 27ms/step - loss: 1.9642 - accuracy: 0.2640 - val_loss: 1.3659 - val_accuracy: 0.5490\n",
            "Epoch 2/50\n",
            "698/698 [==============================] - 20s 29ms/step - loss: 1.6220 - accuracy: 0.4047 - val_loss: 1.2690 - val_accuracy: 0.6293\n",
            "Epoch 3/50\n",
            "698/698 [==============================] - 21s 31ms/step - loss: 1.4546 - accuracy: 0.4559 - val_loss: 0.9868 - val_accuracy: 0.7237\n",
            "Epoch 4/50\n",
            "698/698 [==============================] - 19s 27ms/step - loss: 1.3421 - accuracy: 0.5023 - val_loss: 0.9115 - val_accuracy: 0.7379\n",
            "Epoch 5/50\n",
            "698/698 [==============================] - 20s 28ms/step - loss: 1.2322 - accuracy: 0.5360 - val_loss: 0.8130 - val_accuracy: 0.7564\n",
            "Epoch 6/50\n",
            "698/698 [==============================] - 20s 28ms/step - loss: 1.1628 - accuracy: 0.5638 - val_loss: 0.7832 - val_accuracy: 0.7784\n",
            "Epoch 7/50\n",
            "698/698 [==============================] - 21s 30ms/step - loss: 1.0911 - accuracy: 0.5940 - val_loss: 0.7174 - val_accuracy: 0.7997\n",
            "Epoch 8/50\n",
            "698/698 [==============================] - 20s 28ms/step - loss: 1.0336 - accuracy: 0.6109 - val_loss: 0.6879 - val_accuracy: 0.8061\n",
            "Epoch 9/50\n",
            "698/698 [==============================] - 19s 27ms/step - loss: 0.9514 - accuracy: 0.6440 - val_loss: 0.6372 - val_accuracy: 0.8089\n",
            "Epoch 10/50\n",
            "698/698 [==============================] - 20s 29ms/step - loss: 0.9373 - accuracy: 0.6477 - val_loss: 0.6207 - val_accuracy: 0.8274\n",
            "Epoch 11/50\n",
            "698/698 [==============================] - 20s 29ms/step - loss: 0.8931 - accuracy: 0.6698 - val_loss: 0.5662 - val_accuracy: 0.8416\n",
            "Epoch 12/50\n",
            "698/698 [==============================] - 21s 29ms/step - loss: 0.8185 - accuracy: 0.6922 - val_loss: 0.5287 - val_accuracy: 0.8388\n",
            "Epoch 13/50\n",
            "698/698 [==============================] - 19s 27ms/step - loss: 0.7987 - accuracy: 0.7015 - val_loss: 0.5147 - val_accuracy: 0.8516\n",
            "Epoch 14/50\n",
            "698/698 [==============================] - 20s 29ms/step - loss: 0.7470 - accuracy: 0.7172 - val_loss: 0.4997 - val_accuracy: 0.8430\n",
            "Epoch 15/50\n",
            "698/698 [==============================] - 19s 27ms/step - loss: 0.6962 - accuracy: 0.7366 - val_loss: 0.5295 - val_accuracy: 0.8359\n",
            "Epoch 16/50\n",
            "698/698 [==============================] - 19s 27ms/step - loss: 0.6773 - accuracy: 0.7400 - val_loss: 0.5183 - val_accuracy: 0.8558\n",
            "Epoch 17/50\n",
            "698/698 [==============================] - 19s 27ms/step - loss: 0.6698 - accuracy: 0.7441 - val_loss: 0.4877 - val_accuracy: 0.8601\n",
            "Epoch 18/50\n",
            "698/698 [==============================] - 18s 26ms/step - loss: 0.6378 - accuracy: 0.7477 - val_loss: 0.4820 - val_accuracy: 0.8544\n",
            "Epoch 19/50\n",
            "698/698 [==============================] - 18s 26ms/step - loss: 0.6405 - accuracy: 0.7514 - val_loss: 0.4783 - val_accuracy: 0.8580\n",
            "Epoch 20/50\n",
            "698/698 [==============================] - 18s 26ms/step - loss: 0.5915 - accuracy: 0.7720 - val_loss: 0.4746 - val_accuracy: 0.8608\n",
            "Epoch 21/50\n",
            "698/698 [==============================] - 19s 27ms/step - loss: 0.5673 - accuracy: 0.7833 - val_loss: 0.5022 - val_accuracy: 0.8558\n",
            "Epoch 22/50\n",
            "698/698 [==============================] - 18s 26ms/step - loss: 0.5721 - accuracy: 0.7744 - val_loss: 0.4681 - val_accuracy: 0.8679\n",
            "Epoch 23/50\n",
            "698/698 [==============================] - 20s 29ms/step - loss: 0.5541 - accuracy: 0.7821 - val_loss: 0.4634 - val_accuracy: 0.8608\n",
            "Epoch 24/50\n",
            "698/698 [==============================] - 21s 31ms/step - loss: 0.5309 - accuracy: 0.7867 - val_loss: 0.5043 - val_accuracy: 0.8544\n",
            "Epoch 25/50\n",
            "698/698 [==============================] - 19s 28ms/step - loss: 0.5184 - accuracy: 0.7953 - val_loss: 0.4605 - val_accuracy: 0.8636\n",
            "Epoch 26/50\n",
            "698/698 [==============================] - 18s 26ms/step - loss: 0.4942 - accuracy: 0.8039 - val_loss: 0.5728 - val_accuracy: 0.8274\n",
            "Epoch 27/50\n",
            "698/698 [==============================] - 18s 26ms/step - loss: 0.4855 - accuracy: 0.8068 - val_loss: 0.5153 - val_accuracy: 0.8651\n",
            "Epoch 28/50\n",
            "698/698 [==============================] - 19s 26ms/step - loss: 0.4798 - accuracy: 0.8084 - val_loss: 0.4914 - val_accuracy: 0.8686\n",
            "Epoch 29/50\n",
            "698/698 [==============================] - 18s 26ms/step - loss: 0.4832 - accuracy: 0.8044 - val_loss: 0.4750 - val_accuracy: 0.8722\n",
            "Epoch 30/50\n",
            "698/698 [==============================] - 18s 26ms/step - loss: 0.4573 - accuracy: 0.8184 - val_loss: 0.5314 - val_accuracy: 0.8594\n",
            "Epoch 31/50\n",
            "698/698 [==============================] - 18s 26ms/step - loss: 0.4612 - accuracy: 0.8155 - val_loss: 0.4827 - val_accuracy: 0.8672\n",
            "Epoch 32/50\n",
            "698/698 [==============================] - 18s 25ms/step - loss: 0.4482 - accuracy: 0.8188 - val_loss: 0.5173 - val_accuracy: 0.8743\n",
            "Epoch 33/50\n",
            "698/698 [==============================] - 18s 26ms/step - loss: 0.4452 - accuracy: 0.8225 - val_loss: 0.5023 - val_accuracy: 0.8807\n",
            "Epoch 34/50\n",
            "698/698 [==============================] - 18s 26ms/step - loss: 0.4550 - accuracy: 0.8173 - val_loss: 0.5080 - val_accuracy: 0.8672\n",
            "Epoch 35/50\n",
            "698/698 [==============================] - 20s 28ms/step - loss: 0.4276 - accuracy: 0.8304 - val_loss: 0.5197 - val_accuracy: 0.8551\n",
            "Epoch 36/50\n",
            "698/698 [==============================] - 19s 27ms/step - loss: 0.4352 - accuracy: 0.8290 - val_loss: 0.5625 - val_accuracy: 0.8537\n",
            "Epoch 37/50\n",
            "698/698 [==============================] - 18s 26ms/step - loss: 0.4064 - accuracy: 0.8394 - val_loss: 0.5493 - val_accuracy: 0.8580\n",
            "Epoch 38/50\n",
            "698/698 [==============================] - 18s 26ms/step - loss: 0.4185 - accuracy: 0.8317 - val_loss: 0.6050 - val_accuracy: 0.8537\n",
            "Epoch 39/50\n",
            "698/698 [==============================] - 18s 26ms/step - loss: 0.3853 - accuracy: 0.8429 - val_loss: 0.5808 - val_accuracy: 0.8509\n",
            "Epoch 40/50\n",
            "698/698 [==============================] - 18s 26ms/step - loss: 0.3691 - accuracy: 0.8539 - val_loss: 0.6188 - val_accuracy: 0.8587\n",
            "Epoch 41/50\n",
            "698/698 [==============================] - 18s 26ms/step - loss: 0.3887 - accuracy: 0.8474 - val_loss: 0.5576 - val_accuracy: 0.8629\n",
            "Epoch 42/50\n",
            "698/698 [==============================] - 18s 26ms/step - loss: 0.3675 - accuracy: 0.8532 - val_loss: 0.5620 - val_accuracy: 0.8707\n",
            "Epoch 43/50\n",
            "698/698 [==============================] - 19s 27ms/step - loss: 0.3975 - accuracy: 0.8428 - val_loss: 0.5311 - val_accuracy: 0.8714\n",
            "Epoch 44/50\n",
            "698/698 [==============================] - 19s 27ms/step - loss: 0.3640 - accuracy: 0.8528 - val_loss: 0.5768 - val_accuracy: 0.8651\n",
            "Epoch 45/50\n",
            "698/698 [==============================] - 18s 25ms/step - loss: 0.3791 - accuracy: 0.8505 - val_loss: 0.6146 - val_accuracy: 0.8558\n",
            "Epoch 46/50\n",
            "698/698 [==============================] - 18s 26ms/step - loss: 0.3717 - accuracy: 0.8476 - val_loss: 0.6115 - val_accuracy: 0.8693\n",
            "Epoch 47/50\n",
            "698/698 [==============================] - 18s 26ms/step - loss: 0.3699 - accuracy: 0.8530 - val_loss: 0.6027 - val_accuracy: 0.8629\n",
            "Epoch 48/50\n",
            "698/698 [==============================] - 19s 27ms/step - loss: 0.3670 - accuracy: 0.8589 - val_loss: 0.6486 - val_accuracy: 0.8622\n",
            "Epoch 49/50\n",
            "698/698 [==============================] - 19s 27ms/step - loss: 0.3497 - accuracy: 0.8621 - val_loss: 0.5882 - val_accuracy: 0.8636\n",
            "Epoch 50/50\n",
            "698/698 [==============================] - 19s 27ms/step - loss: 0.3524 - accuracy: 0.8540 - val_loss: 0.6390 - val_accuracy: 0.8615\n"
          ]
        }
      ],
      "source": [
        "results3 = model3.fit(train3, epochs= 50, validation_data=val3)"
      ]
    },
    {
      "cell_type": "markdown",
      "metadata": {},
      "source": [
        "***Testing the model and checking the graphs***"
      ]
    },
    {
      "cell_type": "code",
      "execution_count": null,
      "metadata": {},
      "outputs": [
        {
          "name": "stdout",
          "output_type": "stream",
          "text": [
            "218/218 [==============================] - 9s 11ms/step - loss: 0.7092 - accuracy: 0.8586\n"
          ]
        },
        {
          "data": {
            "text/plain": [
              "[0.7092058062553406, 0.8586207032203674]"
            ]
          },
          "metadata": {},
          "output_type": "display_data"
        }
      ],
      "source": [
        "model3.evaluate(test3)"
      ]
    },
    {
      "cell_type": "code",
      "execution_count": null,
      "metadata": {},
      "outputs": [
        {
          "data": {
            "image/png": "[encoded data removed]",
            "text/plain": [
              "<Figure size 640x480 with 1 Axes>"
            ]
          },
          "metadata": {},
          "output_type": "display_data"
        }
      ],
      "source": [
        "fig = plt.figure()\n",
        "plt.plot(results3.history['loss'], color='teal', label='loss')\n",
        "plt.plot(results3.history['val_loss'], color='orange', label='val_loss')\n",
        "                                \n",
        "fig.suptitle('Loss', fontsize = 20)\n",
        "plt.legend(loc=\"upper left\")\n",
        "plt.show()\n",
        "                  "
      ]
    },
    {
      "cell_type": "code",
      "execution_count": null,
      "metadata": {},
      "outputs": [
        {
          "data": {
            "image/png": "[encoded data removed]",
            "text/plain": [
              "<Figure size 640x480 with 1 Axes>"
            ]
          },
          "metadata": {},
          "output_type": "display_data"
        }
      ],
      "source": [
        "fig = plt.figure()\n",
        "plt.plot(results3.history['accuracy'], color='teal', label='accuracy')\n",
        "plt.plot(results3.history['val_accuracy'], color='orange', label='val_accuracy')\n",
        "                                \n",
        "fig.suptitle('Accuracy', fontsize = 20)\n",
        "plt.legend(loc=\"upper left\")\n",
        "plt.show()"
      ]
    },
    {
      "cell_type": "markdown",
      "metadata": {},
      "source": [
        "# **Conclusion**"
      ]
    },
    {
      "cell_type": "markdown",
      "metadata": {},
      "source": [
        "**After long trials, we were able to stabilize the model up to a level. Maybe there are a few small details that we overlooked. Maybe we're missing out on this when we could have trained the model much better. However, at the end of the day, what we learned with this bootcamp remained with us and this information will be very useful in the future. Therefore, it will be beneficial for all of us to focus on what we have learned in this process rather than whether the model is good or bad.**"
      ]
    }
  ],
  "metadata": {
    "accelerator": "GPU",
    "colab": {
      "collapsed_sections": [],
      "provenance": []
    },
    "kernelspec": {
      "display_name": "Python 3.8.0 64-bit",
      "language": "python",
      "name": "python3"
    },
    "language_info": {
      "name": "python",
      "version": "3.8.0"
    },
    "vscode": {
      "interpreter": {
        "hash": "f1c1c152f0da4b8758e1a87831d18607efedcd312aff226c7cf3ca4d8aae790e"
      }
    }
  },
  "nbformat": 4,
  "nbformat_minor": 0
}
